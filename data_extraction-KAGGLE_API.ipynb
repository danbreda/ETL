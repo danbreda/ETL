{
 "cells": [
  {
   "cell_type": "code",
   "execution_count": 32,
   "id": "32b7b9af",
   "metadata": {},
   "outputs": [],
   "source": [
    "'''\n",
    "Extrair todos os datasets necessários da API do Kaggle \n",
    "Obs.: é necessário criar um API Token e colocar na pasta especificada pelo jupyter notebook\n",
    "'''\n",
    "import kaggle\n",
    "import zipfile\n",
    "from   kaggle.api.kaggle_api_extended import KaggleApi\n",
    "import os\n",
    "\n",
    "api = KaggleApi()\n",
    "api.authenticate()\n",
    "\n",
    "# Nomes de todos os arquivos que desejo baixar do Kaggle\n",
    "datasets_names = ['olist_customers_dataset.csv', 'olist_geolocation_dataset.csv',\n",
    "                  'olist_order_items_dataset.csv', 'olist_order_payments_dataset.csv',\n",
    "                  'olist_order_reviews_dataset.csv', 'olist_orders_dataset.csv',\n",
    "                  'olist_products_dataset.csv', 'olist_sellers_dataset.csv',\n",
    "                  'product_category_name_translation.csv']\n",
    "\n",
    "# Nomes dos arquivos como são baixados da API, como '.zip'\n",
    "names_zip = ['olist_customers_dataset.csv.zip', 'olist_geolocation_dataset.csv.zip',\n",
    "                  'olist_order_items_dataset.csv.zip', 'olist_order_payments_dataset.csv.zip',\n",
    "                  'olist_order_reviews_dataset.csv.zip', 'olist_orders_dataset.csv.zip',\n",
    "                  'olist_products_dataset.csv.zip']\n",
    "\n",
    "# Baixar todos os arquivos da API\n",
    "def download_data():\n",
    "    for name in datasets_names:\n",
    "        api.dataset_download_file('olistbr/brazilian-ecommerce', file_name=name)\n",
    "    return None\n",
    "\n",
    "\n",
    "# Extrair os arquivos zipados\n",
    "def extract_data():\n",
    "    for namezip in names_zip:\n",
    "        with zipfile.ZipFile(namezip, 'r') as zipref:\n",
    "            zipref.extractall()\n",
    "    return None\n",
    "\n",
    "\n",
    "# Excluir arquivos '.zip' desnecessários após a extração\n",
    "def exclude_zipdata():\n",
    "    for rem in names_zip:\n",
    "        os.remove(rem)\n",
    "    return None\n",
    "\n",
    "\n",
    "# Movendo os arquivos para pasta 'bronze_olist'\n",
    "def change_dir():\n",
    "   \n",
    "    path = r\"C:\\Users\\Danilo\\Documents\\repos\\Engenharia de Dados\"\n",
    "\n",
    "    # Lista dos arquivos na pasta\n",
    "    archive_list = os.listdir(path)\n",
    "\n",
    "    for archive in archive_list:\n",
    "        # Chamando os arquivos pelo padrão CSV escrito no nome do arquivo\n",
    "        if \".csv\" in archive:\n",
    "            os.rename(f\"C:/Users/Danilo/Documents/repos/Engenharia de Dados/{archive}\", \n",
    "                      f\"C:/Users/Danilo/Documents/repos/Engenharia de Dados/bronze_olist/{archive}\")"
   ]
  },
  {
   "cell_type": "code",
   "execution_count": 33,
   "id": "429b627e",
   "metadata": {},
   "outputs": [],
   "source": [
    "# Executando as funções\n",
    "download_data()\n",
    "extract_data()\n",
    "exclude_zipdata()\n",
    "change_dir()"
   ]
  },
  {
   "cell_type": "code",
   "execution_count": null,
   "id": "c0264618",
   "metadata": {},
   "outputs": [],
   "source": []
  }
 ],
 "metadata": {
  "kernelspec": {
   "display_name": "Python 3 (ipykernel)",
   "language": "python",
   "name": "python3"
  },
  "language_info": {
   "codemirror_mode": {
    "name": "ipython",
    "version": 3
   },
   "file_extension": ".py",
   "mimetype": "text/x-python",
   "name": "python",
   "nbconvert_exporter": "python",
   "pygments_lexer": "ipython3",
   "version": "3.9.13"
  }
 },
 "nbformat": 4,
 "nbformat_minor": 5
}
